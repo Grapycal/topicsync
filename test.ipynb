{
 "cells": [
  {
   "cell_type": "code",
   "execution_count": 1,
   "metadata": {},
   "outputs": [
    {
     "name": "stdout",
     "output_type": "stream",
     "text": [
      "Chatroom client started\n",
      "> {\"type\": \"hello\", \"content\": {\"id\": 16}}\n",
      "Connected to server as client 16\n"
     ]
    },
    {
     "name": "stdout",
     "output_type": "stream",
     "text": [
      "< {\"type\": \"subscribe\", \"content\": {\"topic\": \"tecghst\"}}\n",
      "< {\"type\": \"publish\", \"content\": {\"topic\": \"tecghst\", \"payload\": \"hello world\"}}\n",
      "> {\"type\": \"update\", \"content\": {\"topic\": \"tecghst\", \"payload\": \"hello world\"}}\n",
      "callback hello world\n",
      "callback2 hello world\n"
     ]
    }
   ],
   "source": [
    "import chatroom\n",
    "import time\n",
    "import asyncio\n",
    "client = chatroom.ChatroomClient(\"ws://localhost:8765\")\n",
    "client.Run()\n",
    "\n",
    "client.AddTopicHandler(\"tecghst\",lambda payload: print(\"callback\",payload))\n",
    "client.AddTopicHandler(\"tecghst\",lambda payload: print(\"callback2\",payload))\n",
    "client.Publish(\"tecghst\",\"hello world\")\n"
   ]
  },
  {
   "cell_type": "code",
   "execution_count": 2,
   "metadata": {},
   "outputs": [
    {
     "name": "stdout",
     "output_type": "stream",
     "text": [
      "< {\"type\": \"subscribe\", \"content\": {\"topic\": \"tecghst\"}}\n"
     ]
    },
    {
     "name": "stdout",
     "output_type": "stream",
     "text": [
      "starting to handle message\n",
      "> {\"type\": \"update\", \"content\": {\"payload\": null}}\n",
      "0\n"
     ]
    }
   ],
   "source": [
    "client.AddTopicHandler(\"tecghst\",lambda payload: print(\"callback\",payload))"
   ]
  },
  {
   "cell_type": "code",
   "execution_count": null,
   "metadata": {},
   "outputs": [
    {
     "name": "stdout",
     "output_type": "stream",
     "text": [
      "< {\"type\": \"publish\", \"content\": {\"topic\": \"test\", \"payload\": \"hello\"}}\n"
     ]
    },
    {
     "name": "stderr",
     "output_type": "stream",
     "text": [
      "Task exception was never retrieved\n",
      "future: <Task finished name='Task-10' coro=<WebSocketCommonProtocol.send() done, defined at c:\\Users\\a931e\\anaconda3\\envs\\nn\\lib\\site-packages\\websockets\\legacy\\protocol.py:564> exception=ConnectionClosedError(Close(code=1011, reason=''), Close(code=1011, reason=''), True)>\n",
      "Traceback (most recent call last):\n",
      "  File \"c:\\Users\\a931e\\anaconda3\\envs\\nn\\lib\\site-packages\\websockets\\legacy\\protocol.py\", line 619, in send\n",
      "    await self.ensure_open()\n",
      "  File \"c:\\Users\\a931e\\anaconda3\\envs\\nn\\lib\\site-packages\\websockets\\legacy\\protocol.py\", line 920, in ensure_open\n",
      "    raise self.connection_closed_exc()\n",
      "websockets.exceptions.ConnectionClosedError: received 1011 (unexpected error); then sent 1011 (unexpected error)\n"
     ]
    }
   ],
   "source": [
    "client.Publish(\"test\",\"hello\")"
   ]
  },
  {
   "cell_type": "code",
   "execution_count": 9,
   "metadata": {},
   "outputs": [
    {
     "name": "stdout",
     "output_type": "stream",
     "text": [
      "callback a\n"
     ]
    }
   ],
   "source": [
    "client._topic_handlers['test'][0]('a')"
   ]
  },
  {
   "cell_type": "code",
   "execution_count": 3,
   "metadata": {},
   "outputs": [
    {
     "data": {
      "text/plain": [
       "1"
      ]
     },
     "execution_count": 3,
     "metadata": {},
     "output_type": "execute_result"
    }
   ],
   "source": [
    "1"
   ]
  },
  {
   "cell_type": "code",
   "execution_count": null,
   "metadata": {},
   "outputs": [],
   "source": []
  }
 ],
 "metadata": {
  "kernelspec": {
   "display_name": "nn",
   "language": "python",
   "name": "python3"
  },
  "language_info": {
   "codemirror_mode": {
    "name": "ipython",
    "version": 3
   },
   "file_extension": ".py",
   "mimetype": "text/x-python",
   "name": "python",
   "nbconvert_exporter": "python",
   "pygments_lexer": "ipython3",
   "version": "3.9.7"
  },
  "orig_nbformat": 4,
  "vscode": {
   "interpreter": {
    "hash": "b0262f5fbfa6aea8fd24e095074a350da332115be4d22f3e942135db609cade1"
   }
  }
 },
 "nbformat": 4,
 "nbformat_minor": 2
}
