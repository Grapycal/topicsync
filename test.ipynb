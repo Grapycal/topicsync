{
 "cells": [
  {
   "cell_type": "code",
   "execution_count": 1,
   "metadata": {},
   "outputs": [
    {
     "name": "stdout",
     "output_type": "stream",
     "text": [
      "Chatroom client started\n",
      "< {\"type\": \"subscribe\", \"content\": {\"topic\": \"tecghst\"}}\n",
      "< {\"type\": \"publish\", \"content\": {\"topic\": \"tecghst\", \"value\": \"hello world\"}}\n",
      "> {\"type\": \"hello\", \"content\": {\"id\": 2}}\n",
      "Connected to server as client 2\n",
      "> {\"type\": \"update\", \"content\": {\"topic\": \"tecghst\", \"value\": \"hello world\"}}\n",
      "callback hello world\n",
      "> {\"type\": \"update\", \"content\": {\"topic\": \"tecghst\", \"value\": \"hello world\"}}\n",
      "callback hello world\n"
     ]
    }
   ],
   "source": [
    "import chatroom\n",
    "import time\n",
    "import asyncio\n",
    "client = chatroom.ChatroomClient(\"ws://localhost:8765\")\n",
    "client.Run()\n",
    "\n",
    "client.AddTopicHandler(\"tecghst\",lambda value: print(\"callback\",value))\n",
    "client.Publish(\"tecghst\",\"hello world\")\n"
   ]
  },
  {
   "cell_type": "code",
   "execution_count": 4,
   "metadata": {},
   "outputs": [
    {
     "name": "stdout",
     "output_type": "stream",
     "text": [
      "< {\"type\": \"publish\", \"content\": {\"topic\": \"tecghst\", \"value\": \"123456\"}}\n",
      "> {\"type\": \"update\", \"content\": {\"topic\": \"tecghst\", \"value\": \"123456\"}}\n",
      "callback 123456\n",
      "> {\"type\": \"update\", \"content\": {\"topic\": \"tecghst\", \"value\": \"hello world\"}}\n",
      "callback hello world\n"
     ]
    },
    {
     "name": "stderr",
     "output_type": "stream",
     "text": [
      "Exception in thread Thread-6:\n",
      "Traceback (most recent call last):\n",
      "  File \"c:\\Users\\a931e\\anaconda3\\envs\\nn\\lib\\site-packages\\websockets\\legacy\\protocol.py\", line 944, in transfer_data\n",
      "    message = await self.read_message()\n",
      "  File \"c:\\Users\\a931e\\anaconda3\\envs\\nn\\lib\\site-packages\\websockets\\legacy\\protocol.py\", line 1013, in read_message\n",
      "    frame = await self.read_data_frame(max_size=self.max_size)\n",
      "  File \"c:\\Users\\a931e\\anaconda3\\envs\\nn\\lib\\site-packages\\websockets\\legacy\\protocol.py\", line 1089, in read_data_frame\n",
      "    frame = await self.read_frame(max_size)\n",
      "  File \"c:\\Users\\a931e\\anaconda3\\envs\\nn\\lib\\site-packages\\websockets\\legacy\\protocol.py\", line 1144, in read_frame\n",
      "    frame = await Frame.read(\n",
      "  File \"c:\\Users\\a931e\\anaconda3\\envs\\nn\\lib\\site-packages\\websockets\\legacy\\framing.py\", line 70, in read\n",
      "    data = await reader(2)\n",
      "  File \"c:\\Users\\a931e\\anaconda3\\envs\\nn\\lib\\asyncio\\streams.py\", line 723, in readexactly\n",
      "    await self._wait_for_data('readexactly')\n",
      "  File \"c:\\Users\\a931e\\anaconda3\\envs\\nn\\lib\\asyncio\\streams.py\", line 517, in _wait_for_data\n",
      "    await self._waiter\n",
      "  File \"c:\\Users\\a931e\\anaconda3\\envs\\nn\\lib\\asyncio\\selector_events.py\", line 856, in _read_ready__data_received\n",
      "    data = self._sock.recv(self.max_size)\n",
      "ConnectionResetError: [WinError 10054] An existing connection was forcibly closed by the remote host\n",
      "\n",
      "The above exception was the direct cause of the following exception:\n",
      "\n",
      "Traceback (most recent call last):\n",
      "  File \"c:\\Users\\a931e\\anaconda3\\envs\\nn\\lib\\threading.py\", line 973, in _bootstrap_inner\n",
      "    self.run()\n",
      "  File \"c:\\Users\\a931e\\anaconda3\\envs\\nn\\lib\\threading.py\", line 910, in run\n",
      "    self._target(*self._args, **self._kwargs)\n",
      "  File \"d:\\ChatRoom\\chatroom\\client\\client.py\", line 39, in _ThreadedRun\n",
      "    self._event_loop.run_until_complete(self._Run())\n",
      "  File \"c:\\Users\\a931e\\anaconda3\\envs\\nn\\lib\\asyncio\\base_events.py\", line 642, in run_until_complete\n",
      "    return future.result()\n",
      "  File \"d:\\ChatRoom\\chatroom\\client\\client.py\", line 46, in _Run\n",
      "    await asyncio.gather(self._ReceivingLoop(),self._SendingLoop(),loop=self._event_loop)\n",
      "  File \"d:\\ChatRoom\\chatroom\\client\\client.py\", line 63, in _ReceivingLoop\n",
      "    async for message in self._ws:\n",
      "  File \"c:\\Users\\a931e\\anaconda3\\envs\\nn\\lib\\site-packages\\websockets\\legacy\\protocol.py\", line 481, in __aiter__\n",
      "    yield await self.recv()\n",
      "  File \"c:\\Users\\a931e\\anaconda3\\envs\\nn\\lib\\site-packages\\websockets\\legacy\\protocol.py\", line 552, in recv\n",
      "    await self.ensure_open()\n",
      "  File \"c:\\Users\\a931e\\anaconda3\\envs\\nn\\lib\\site-packages\\websockets\\legacy\\protocol.py\", line 920, in ensure_open\n",
      "    raise self.connection_closed_exc()\n",
      "websockets.exceptions.ConnectionClosedError: no close frame received or sent\n"
     ]
    }
   ],
   "source": [
    "client.Publish(\"tecghst\",\"123456\")"
   ]
  },
  {
   "cell_type": "code",
   "execution_count": null,
   "metadata": {},
   "outputs": [
    {
     "name": "stdout",
     "output_type": "stream",
     "text": [
      "< {\"type\": \"publish\", \"content\": {\"topic\": \"test\", \"value\": \"hello\"}}\n"
     ]
    },
    {
     "name": "stderr",
     "output_type": "stream",
     "text": [
      "Task exception was never retrieved\n",
      "future: <Task finished name='Task-10' coro=<WebSocketCommonProtocol.send() done, defined at c:\\Users\\a931e\\anaconda3\\envs\\nn\\lib\\site-packages\\websockets\\legacy\\protocol.py:564> exception=ConnectionClosedError(Close(code=1011, reason=''), Close(code=1011, reason=''), True)>\n",
      "Traceback (most recent call last):\n",
      "  File \"c:\\Users\\a931e\\anaconda3\\envs\\nn\\lib\\site-packages\\websockets\\legacy\\protocol.py\", line 619, in send\n",
      "    await self.ensure_open()\n",
      "  File \"c:\\Users\\a931e\\anaconda3\\envs\\nn\\lib\\site-packages\\websockets\\legacy\\protocol.py\", line 920, in ensure_open\n",
      "    raise self.connection_closed_exc()\n",
      "websockets.exceptions.ConnectionClosedError: received 1011 (unexpected error); then sent 1011 (unexpected error)\n"
     ]
    }
   ],
   "source": [
    "client.Publish(\"test\",\"hello\")"
   ]
  },
  {
   "cell_type": "code",
   "execution_count": 9,
   "metadata": {},
   "outputs": [
    {
     "name": "stdout",
     "output_type": "stream",
     "text": [
      "callback a\n"
     ]
    }
   ],
   "source": [
    "client._topic_handlers['test'][0]('a')"
   ]
  },
  {
   "cell_type": "code",
   "execution_count": 3,
   "metadata": {},
   "outputs": [
    {
     "data": {
      "text/plain": [
       "1"
      ]
     },
     "execution_count": 3,
     "metadata": {},
     "output_type": "execute_result"
    }
   ],
   "source": [
    "1"
   ]
  },
  {
   "cell_type": "code",
   "execution_count": null,
   "metadata": {},
   "outputs": [],
   "source": []
  }
 ],
 "metadata": {
  "kernelspec": {
   "display_name": "nn",
   "language": "python",
   "name": "python3"
  },
  "language_info": {
   "codemirror_mode": {
    "name": "ipython",
    "version": 3
   },
   "file_extension": ".py",
   "mimetype": "text/x-python",
   "name": "python",
   "nbconvert_exporter": "python",
   "pygments_lexer": "ipython3",
   "version": "3.9.7"
  },
  "orig_nbformat": 4,
  "vscode": {
   "interpreter": {
    "hash": "b0262f5fbfa6aea8fd24e095074a350da332115be4d22f3e942135db609cade1"
   }
  }
 },
 "nbformat": 4,
 "nbformat_minor": 2
}
